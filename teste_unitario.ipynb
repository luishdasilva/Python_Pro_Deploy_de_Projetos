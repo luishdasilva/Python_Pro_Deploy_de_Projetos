{
 "cells": [
  {
   "cell_type": "markdown",
   "id": "1c401fec",
   "metadata": {},
   "source": [
    "### Instalando Biblioteca"
   ]
  },
  {
   "cell_type": "code",
   "execution_count": 1,
   "id": "564b0dcf",
   "metadata": {},
   "outputs": [
    {
     "name": "stdout",
     "output_type": "stream",
     "text": [
      "Requirement already satisfied: pycodestyle in c:\\users\\luish\\anaconda3\\lib\\site-packages (2.6.0)\n"
     ]
    }
   ],
   "source": [
    "!pip3 install pycodestyle"
   ]
  },
  {
   "cell_type": "code",
   "execution_count": 6,
   "id": "ad124762",
   "metadata": {},
   "outputs": [
    {
     "name": "stdout",
     "output_type": "stream",
     "text": [
      "Requirement already satisfied: pylist in c:\\users\\luish\\anaconda3\\lib\\site-packages (1.4.0)\n"
     ]
    }
   ],
   "source": [
    "!pip3 install pylist"
   ]
  },
  {
   "cell_type": "markdown",
   "id": "9bb11d9b",
   "metadata": {},
   "source": [
    "### Teste"
   ]
  },
  {
   "cell_type": "code",
   "execution_count": 5,
   "id": "d903dfd6",
   "metadata": {},
   "outputs": [],
   "source": [
    "!python -m pycodestyle printar.py"
   ]
  },
  {
   "cell_type": "code",
   "execution_count": 9,
   "id": "4ee70499",
   "metadata": {},
   "outputs": [
    {
     "name": "stdout",
     "output_type": "stream",
     "text": [
      "\n",
      "--------------------------------------------------------------------\n",
      "\n",
      "Your code has been rated at 10.00/10 (previous run: 0.00/10, +10.00)\n",
      "\n",
      "\n",
      "\n"
     ]
    }
   ],
   "source": [
    "!python -m pylint printar.py"
   ]
  },
  {
   "cell_type": "code",
   "execution_count": null,
   "id": "32553655",
   "metadata": {},
   "outputs": [],
   "source": []
  }
 ],
 "metadata": {
  "kernelspec": {
   "display_name": "Python 3",
   "language": "python",
   "name": "python3"
  },
  "language_info": {
   "codemirror_mode": {
    "name": "ipython",
    "version": 3
   },
   "file_extension": ".py",
   "mimetype": "text/x-python",
   "name": "python",
   "nbconvert_exporter": "python",
   "pygments_lexer": "ipython3",
   "version": "3.8.8"
  }
 },
 "nbformat": 4,
 "nbformat_minor": 5
}
